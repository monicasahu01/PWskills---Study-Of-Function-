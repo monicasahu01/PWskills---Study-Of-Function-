{
 "cells": [
  {
   "cell_type": "code",
   "execution_count": null,
   "id": "87e394f7-8d4b-49bf-b5d1-249378ce65f3",
   "metadata": {},
   "outputs": [],
   "source": [
    "1. Which function is used to open a file? What are the different modes of opening a file? Explain each mode of file opening?\n",
    "Ans - Python open () Function\n",
    "The open () function opens a file, and returns it as a file object.\n",
    "Modes to Open a File in Python\n",
    "Mode\tDescription\n",
    "r\tOpen a file for reading. (Default)\n",
    "w\tOpen a file for writing. Creates a new file if it does not exist or truncates the file if it exists.\n",
    "x\tOpen a file for exclusive creation. If the file already exists, the operation fails.\n",
    "a\tOpen a file for appending at the end of the file without truncating it. Creates a new file if it does not exist.\n",
    "t\tOpen in text mode. (Default)\n",
    "b\tOpen in binary mode.\n",
    "+\tOpen a file for updating (reading and writing?\n",
    "2. Why close () function is used why is it important to close a file?\n",
    "Ans- Because files are limited resources managed by the operating system, making sure files are closed after use will protect against hard-to-debug issues like running out of file handles or experiencing corrupted data. The best defense is always to open files with a context manager.\n",
    "Write a python program to create a text file? Write ‘I want to become a Data Scientist’ in that file.t hen close the file. Open this file and read the content of the file\n",
    "3. Write a python program to create a text file. Write ‘I want to become a Data Scientist’ in that file. Then close the file. Open this file and read the content of the file.\n",
    "Example of how to create a file with the \"w\" command: #creating a text file with the command function \"w\" f = open(\"myfile.txt\", \"w\") #This \"w\" command can also be used create a new file but unlike the \"x\" command the \"w\" command will overwrite any existing file found with the same file name.\n",
    "Q4. Explain the following with python code: read (), readline () and readlines ().\n",
    "5. Explain why with statement is used with open (). \n",
    "What is the advantage of using with statement and open () together?\n",
    "Ans-The with statement works with the open () function to open a file. \n",
    "Unlike open () where you have to close the file with the close () method, the with statement closes the file for you without you telling it to. \n",
    "This is because the with statement calls \n",
    "2 built-in methods behind the scene – __enter () __ and __exit () __.\n",
    "6. Explain the write () and writelines () functions. Give a suitable example.\n",
    "Ans- The write () method accepts a string as an argument and writes this string to the text file. \n",
    "Whereas, the writelines () method accepts an iterable i.e. a string or the list of strings as an argument and writes these strings to the text file.\n"
   ]
  }
 ],
 "metadata": {
  "kernelspec": {
   "display_name": "Python 3 (ipykernel)",
   "language": "python",
   "name": "python3"
  },
  "language_info": {
   "codemirror_mode": {
    "name": "ipython",
    "version": 3
   },
   "file_extension": ".py",
   "mimetype": "text/x-python",
   "name": "python",
   "nbconvert_exporter": "python",
   "pygments_lexer": "ipython3",
   "version": "3.10.8"
  }
 },
 "nbformat": 4,
 "nbformat_minor": 5
}
